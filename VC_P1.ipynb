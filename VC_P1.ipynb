{
 "cells": [
  {
   "cell_type": "markdown",
   "metadata": {},
   "source": [
    "Paquetes necesarios"
   ]
  },
  {
   "cell_type": "code",
   "execution_count": 2,
   "metadata": {},
   "outputs": [],
   "source": [
    "import cv2  \n",
    "import numpy as np\n",
    "import matplotlib.pyplot as plt"
   ]
  },
  {
   "cell_type": "markdown",
   "metadata": {},
   "source": [
    "TAREA: Crea una imagen, p.e. 800x800, con la textura del tablero de ajedrez"
   ]
  },
  {
   "cell_type": "code",
   "execution_count": 3,
   "metadata": {},
   "outputs": [
    {
     "data": {
      "image/png": "[encoded data removed]",
      "text/plain": [
       "<Figure size 640x480 with 1 Axes>"
      ]
     },
     "metadata": {},
     "output_type": "display_data"
    }
   ],
   "source": [
    "#Tablero de ajedrez\n",
    "#Crea una imagen de un único plano, que se interpreta como nivel de gris (0 negro, 255 blanco)\n",
    "ajedrez = np.zeros((800,800,1), dtype = np.uint8)\n",
    "#Muestra dimensiones de la imagen creada\n",
    "import cv2  \n",
    "import numpy as np\n",
    "import matplotlib.pyplot as plt\n",
    "\n",
    "#Modifica un par de zonas rectangulares de la imagen\n",
    "x1 = 0\n",
    "x2 = 100\n",
    "y1 = 0\n",
    "y2 = 100\n",
    "for  i  in range(4):\n",
    "        while(y2<800):\n",
    "            ajedrez[x1:x2,y1:y2,0] = 255 #Especifica el canal 0\n",
    "            y1 += 200\n",
    "            y2 += 200\n",
    "        y1 = 0\n",
    "        y2 = 100\n",
    "        x1 += 200\n",
    "        x2 += 200\n",
    "y1 = 100\n",
    "y2 = 200\n",
    "x1 = 100\n",
    "x2 = 200\n",
    "for  i  in range(4):\n",
    "        while(y2<=800):\n",
    "            ajedrez[x1:x2,y1:y2,0] = 255 #Especifica el canal 0\n",
    "            y1 += 200\n",
    "            y2 += 200\n",
    "        y1 = 100\n",
    "        y2 = 200    \n",
    "        x1 += 200\n",
    "        x2 += 200\n",
    "\n",
    "#Muestra la imagen con matplotlib\n",
    "#Es necesario especificar que el mapa de color usado es de grises\n",
    "plt.imshow(ajedrez, cmap='gray')\n",
    "plt.show()\n"
   ]
  },
  {
   "cell_type": "markdown",
   "metadata": {},
   "source": [
    "TAREA: Crear una imagen estilo Mondrian (un ejemplo https://www3.gobiernodecanarias.org/medusa/ecoescuela/sa/2017/04/17/descubriendo-a-mondrian/ )"
   ]
  },
  {
   "cell_type": "code",
   "execution_count": 10,
   "metadata": {},
   "outputs": [
    {
     "data": {
      "image/png": "[encoded data removed]",
      "text/plain": [
       "<Figure size 640x480 with 1 Axes>"
      ]
     },
     "metadata": {},
     "output_type": "display_data"
    },
    {
     "data": {
      "text/plain": [
       "True"
      ]
     },
     "execution_count": 10,
     "metadata": {},
     "output_type": "execute_result"
    }
   ],
   "source": [
    "#Crea una imagen con tres planos\n",
    "import cv2  \n",
    "import numpy as np\n",
    "import matplotlib.pyplot as plt\n",
    "#Dimensiones de la imagen a crear\n",
    "ancho = 200\n",
    "alto = 200\n",
    "\n",
    "color_img = np.zeros((200,200,3), dtype = np.uint8)\n",
    "color_img[:,:,:] = 255\n",
    "\n",
    "#Rectángulo relleno\n",
    "cv2.rectangle(color_img,(50,0),(0,50),(255,255,0),-1)\n",
    "\n",
    "cv2.rectangle(color_img,(125, 75),(50,130),(0,0,255),-1)\n",
    "\n",
    "cv2.rectangle(color_img,(ancho, 0),(125,75),(255,0,0),-1)\n",
    "\n",
    "cv2.rectangle(color_img,(50,130),(0,175),(0,0,255),-1)\n",
    "\n",
    "cv2.rectangle(color_img,(ancho,130),(150,175),(255,255,0),-1)\n",
    "\n",
    "cv2.rectangle(color_img,(50,175),(0,alto),(255,255,0),-1)\n",
    "\n",
    "cv2.rectangle(color_img,(75,175),(50,alto),(255,0,0),-1)\n",
    "\n",
    "#Línea roja vertical de grosor 3\n",
    "cv2.line(color_img, (50,0) , (50,alto) , (0,0,0) ,3)\n",
    "\n",
    "cv2.line(color_img, (0, 175) , (ancho, 175) , (0,0,0) ,3)\n",
    "\n",
    "cv2.line(color_img, (0, 130) , (ancho, 130) , (0,0,0) ,3)\n",
    "\n",
    "cv2.line(color_img, (0, 50) , (50, 50) , (0,0,0) ,3)\n",
    "\n",
    "cv2.line(color_img, (50, 75) , (ancho, 75) , (0,0,0) ,3)\n",
    "\n",
    "cv2.line(color_img, (125,0) , (125,130) , (0,0,0) ,3)\n",
    "\n",
    "cv2.line(color_img, (150,75) , (150,alto) , (0,0,0) ,3)\n",
    "\n",
    "cv2.line(color_img, (75,130) , (75,alto) , (0,0,0) ,3)\n",
    "#Visualiza sin especificar el mapa de color gris\n",
    "plt.imshow(color_img) \n",
    "plt.show()\n",
    "\n",
    "\n",
    "#Salva la imagen resultante a disco\n",
    "cv2.imwrite('imagen.jpg', color_img)"
   ]
  },
  {
   "cell_type": "markdown",
   "metadata": {},
   "source": [
    "TAREA: Resuelve una de las tareas previas (a elegir) con las funciones de dibujo de OpenCV  :)"
   ]
  },
  {
   "cell_type": "markdown",
   "metadata": {},
   "source": [
    "Separa los tres planos de la imagen captada por la webcam\n",
    "TAREA: \n",
    "Modificar uno de los planos"
   ]
  },
  {
   "cell_type": "code",
   "execution_count": 3,
   "metadata": {},
   "outputs": [],
   "source": [
    "vid = cv2.VideoCapture(0)\n",
    "  \n",
    "while(True):      \n",
    "    # fotograma a fotograma\n",
    "    ret, frame = vid.read()\n",
    "\n",
    "    if ret:\n",
    "        #Separamos canales\n",
    "        b = frame[:,:,0]\n",
    "        g = frame[:,:,1]\n",
    "        r = frame[:,:,2]\n",
    "        #Dimensiones\n",
    "        h, w, c = frame.shape\n",
    "\n",
    "        #modificación de uno de los planos\n",
    "        b = b + 140\n",
    "\n",
    "        #Concateamos en horizontal los tres planos del fotograma\n",
    "        collage = np.hstack((r, g, b))\n",
    "    \n",
    "        # Muestra fotograma redimensionando a la mitad para que quepa en pantalla\n",
    "        cv2.imshow('Cam3', cv2.resize(collage, (int(w*1.5),int(h/2)),cv2.INTER_NEAREST))\n",
    "    \n",
    "    # Detenemos pulsado ESC\n",
    "    if cv2.waitKey(20) == 27:\n",
    "        break\n",
    "  \n",
    "# Libera el objeto de captura\n",
    "vid.release()\n",
    "# Destruye ventanas\n",
    "cv2.destroyAllWindows()"
   ]
  },
  {
   "cell_type": "code",
   "execution_count": null,
   "metadata": {},
   "outputs": [],
   "source": [
    "import cv2\n",
    "import numpy as np\n",
    "\n",
    "# Función que trata eventos de ratón\n",
    "def mouse_events(event, x, y, flags, params):\n",
    "    global px, py, R, G, B\n",
    "    px = -1\n",
    "    # Movimiento del puntero\n",
    "    if event == cv2.EVENT_MOUSEMOVE:\n",
    "        # Valores del píxel\n",
    "        B = frame[y, x, 0]\n",
    "        G = frame[y, x, 1]\n",
    "        R = frame[y, x, 2]\n",
    "\n",
    "        px = x\n",
    "        py = y\n",
    "\n",
    "vid = cv2.VideoCapture(0)\n",
    "\n",
    "# Tipografía para mostrar texto\n",
    "font = cv2.FONT_HERSHEY_SIMPLEX\n",
    "\n",
    "lanzado = 0\n",
    "px = -1\n",
    "while True:\n",
    "    # fotograma a fotograma\n",
    "    ret, frame = vid.read()\n",
    "\n",
    "    if ret:\n",
    "        # Activa el manejador en el primer fotograma\n",
    "        if lanzado == 0:\n",
    "            # Muestra fotograma\n",
    "            cv2.imshow('Cam', frame)\n",
    "            # Define el nombre del manejador del evento\n",
    "            cv2.setMouseCallback('Cam', mouse_events)\n",
    "            lanzado = 1\n",
    "\n",
    "        # Muestra valores RGB intentando centrarse en el puntero\n",
    "        if px > -1:\n",
    "            cv2.putText(frame, '{}'.format(R), (px - 45, py - 5), font, 0.5, (0, 0, 255), 1)\n",
    "            cv2.putText(frame, '     {}'.format(G), (px - 54, py - 5), font, 0.5, (0, 255, 0), 1)\n",
    "            cv2.putText(frame, '         {}'.format(B), (px - 54, py - 5), font, 0.5, (255, 0, 0), 1)\n",
    "\n",
    "            # Define una región de interés (ROI) 8x8 alrededor del puntero\n",
    "            roi = frame[py - 20:py + 20, px - 20:px + 20]\n",
    "\n",
    "            # Convierte la ROI a escala de grises\n",
    "            roi_gray = cv2.cvtColor(roi, cv2.COLOR_BGR2GRAY)\n",
    "\n",
    "            # Encuentra la posición del valor más claro y oscuro en la ROI en escala de grises\n",
    "            min_val, max_val, min_loc, max_loc = cv2.minMaxLoc(roi_gray)\n",
    "\n",
    "            # Convierte las coordenadas de la posición más clara y oscura a coordenadas globales\n",
    "            brightest_pos = (px - 4 + max_loc[0], py - 4 + max_loc[1])\n",
    "            darkest_pos = (px - 4 + min_loc[0], py - 4 + min_loc[1])\n",
    "\n",
    "            # Dibuja círculos en las posiciones encontradas\n",
    "            cv2.circle(frame, brightest_pos, 5, (0, 255, 0), -1)  # Círculo verde en la posición más clara\n",
    "            cv2.circle(frame, darkest_pos, 5, (0, 0, 255), -1)  # Círculo rojo en la posición más oscura\n",
    "\n",
    "        cv2.imshow('Cam', frame)\n",
    "\n",
    "    # Detenemos pulsado ESC\n",
    "    if cv2.waitKey(20) == 27:\n",
    "        break\n",
    "\n",
    "# Libera el objeto de captura\n",
    "vid.release()\n",
    "# Destruye ventanas\n",
    "cv2.destroyAllWindows()"
   ]
  },
  {
   "cell_type": "markdown",
   "metadata": {},
   "source": [
    "TAREA:\n",
    "Pintar círculos en las posiciones del píxel más claro y oscuro de la imagen \n",
    "¿Si quisieras hacerlo sobre la zona 8x8 más clara/oscura?\n",
    "\n",
    "\n",
    "\n",
    "TAREA: Haz tu propuesta Pop Art"
   ]
  },
  {
   "cell_type": "code",
   "execution_count": 7,
   "metadata": {},
   "outputs": [],
   "source": [
    "vid = cv2.VideoCapture(0)\n",
    "\n",
    "#Dimensiones de la cámara\n",
    "w = int(vid.get(cv2.CAP_PROP_FRAME_WIDTH))\n",
    "h = int(vid.get(cv2.CAP_PROP_FRAME_HEIGHT))\n",
    "\n",
    "#Fuerzo a mitad de resolución para ocupar menos pantalla\n",
    "w=int(w/2)\n",
    "h=int(h/2)\n",
    "vid.set(cv2.CAP_PROP_FRAME_WIDTH, w) #En Mac no reacciona a estos comandos\n",
    "vid.set(cv2.CAP_PROP_FRAME_HEIGHT, h)\n",
    "\n",
    "#Imagen conjunta 2x original\n",
    "collage = np.zeros((h*2,w*2,3), dtype = np.uint8)\n",
    "tl = collage[0:h,0:w]\n",
    "tr = collage[0:h,w:w+w]\n",
    "bl = collage[h:h+h,0:w]\n",
    "br = collage[h:h+h,w:w+w]\n",
    "\n",
    "while True:      \n",
    "    # fotograma a fotograma\n",
    "    ret, frame = vid.read()\n",
    "\n",
    "    if ret:\n",
    "        #Separamos canales\n",
    "        r = frame[:,:,2]\n",
    "        g = frame[:,:,1]\n",
    "        b = frame[:,:,0]\n",
    "\n",
    "        #Jugamos\n",
    "        tl[:,:,0] = b + 140\n",
    "        tl[:,:,1] = g\n",
    "        tl[:,:,2] = r - 25\n",
    "\n",
    "        tr[:,:,0] = 255 - r\n",
    "        tr[:,:,1] = g + 60\n",
    "        tr[:,:,2] = b\n",
    "        \n",
    "        bl[:,:,0] = r\n",
    "        bl[:,:,1] = 255 - b\n",
    "        bl[:,:,2] = g\n",
    "\n",
    "        br[:,:,0] = b\n",
    "        br[:,:,1] = 255 - g\n",
    "        br[:,:,2] = r + r\n",
    "    \n",
    "        # Muestra composicion\n",
    "        cv2.imshow('Cam', collage)\n",
    "    \n",
    "    # Detenemos pulsado ESC\n",
    "    if cv2.waitKey(20) == 27:\n",
    "        break\n",
    "  \n",
    "# Libera el objeto de captura\n",
    "vid.release()\n",
    "# Destruye ventanas\n",
    "cv2.destroyAllWindows()"
   ]
  }
 ],
 "metadata": {
  "kernelspec": {
   "display_name": "Python 3.7.3 ('FACES')",
   "language": "python",
   "name": "python3"
  },
  "language_info": {
   "codemirror_mode": {
    "name": "ipython",
    "version": 3
   },
   "file_extension": ".py",
   "mimetype": "text/x-python",
   "name": "python",
   "nbconvert_exporter": "python",
   "pygments_lexer": "ipython3",
   "version": "3.11.5"
  },
  "orig_nbformat": 4,
  "vscode": {
   "interpreter": {
    "hash": "ea3a1ee99ce326e593ddb52cd278556d527fcb6552c40e2a47b1efb9d0183637"
   }
  }
 },
 "nbformat": 4,
 "nbformat_minor": 2
}
